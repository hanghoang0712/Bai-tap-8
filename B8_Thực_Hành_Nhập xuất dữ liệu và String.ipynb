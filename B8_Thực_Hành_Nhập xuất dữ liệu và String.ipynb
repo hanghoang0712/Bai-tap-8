{
 "cells": [
  {
   "cell_type": "code",
   "execution_count": 4,
   "id": "c4500382",
   "metadata": {},
   "outputs": [
    {
     "name": "stdout",
     "output_type": "stream",
     "text": [
      "Tôi\n",
      "Titíh\n",
      "T í   c\n"
     ]
    }
   ],
   "source": [
    "# cắt string theo index\n",
    "# cú pháp : <tên biến > [start:end:step]\n",
    "text = \"Tôi thích đi du lịch\"\n",
    "print(text[0:3])\n",
    "print(text[0:10:2])\n",
    "print(text[0:len(text):3])\n",
    "\n",
    "print(text[: : 2]) #start default là 0 , end default là len(text) ,step có thể đi từ giá trị âm\n",
    "print(text[: : -1])"
   ]
  },
  {
   "cell_type": "code",
   "execution_count": 6,
   "id": "493419fb",
   "metadata": {},
   "outputs": [
    {
     "name": "stdout",
     "output_type": "stream",
     "text": [
      "pythoncanban\n",
      "pythoncanbanpythoncanbanpythoncanban\n"
     ]
    }
   ],
   "source": [
    "# ghep chuỗi và lặp chuỗi \n",
    "text = \"python\"\n",
    "text1 = \"canban\"\n",
    "text2 = text + text1\n",
    "print(text2)\n",
    "print(text2*3)"
   ]
  },
  {
   "cell_type": "code",
   "execution_count": 8,
   "id": "ce8e459a",
   "metadata": {},
   "outputs": [
    {
     "name": "stdout",
     "output_type": "stream",
     "text": [
      "3\n",
      "1\n"
     ]
    }
   ],
   "source": [
    "# count\n",
    "content = \"Lớp học python căn bản buổi 8\"\n",
    "print(content.count(\"n\"))\n",
    "print(content.count(\"học\"))"
   ]
  },
  {
   "cell_type": "markdown",
   "id": "b6a2b340",
   "metadata": {},
   "source": [
    "#### thực hành xử lý và in ra các thông tin tương ứng trong chuỗi "
   ]
  },
  {
   "cell_type": "code",
   "execution_count": 13,
   "id": "b1467f87",
   "metadata": {},
   "outputs": [
    {
     "name": "stdout",
     "output_type": "stream",
     "text": [
      "Lớp học\n",
      "python\n",
      "căn bản\n",
      "buổi 8\n"
     ]
    }
   ],
   "source": [
    "content = \"Lớp học python căn bản buổi 8\"\n",
    "# in ra 2 chữ :lớp học\n",
    "print(content[0:7])\n",
    "\n",
    "# in ra 2 chữ: python\n",
    "print(content[8:14])\n",
    "# in ra 2 chữ: căn bản\n",
    "print(content[15:22])\n",
    "# in ra chữ : buổi 8\n",
    "print(content[23:29])"
   ]
  },
  {
   "cell_type": "markdown",
   "id": "ac31fbb3",
   "metadata": {},
   "source": [
    "# Bài Tập thực hành"
   ]
  },
  {
   "cell_type": "markdown",
   "id": "4ec0a0d3",
   "metadata": {},
   "source": [
    "## Bài Tập 1"
   ]
  },
  {
   "cell_type": "markdown",
   "id": "ca31248e",
   "metadata": {},
   "source": [
    "Giả sử một chiếc ô tô có vận tốc ban đầu v0, gia tốc a và thời gian t.</p>\n",
    "Viết chương trình python để tìm vận tốc cuối cùng của ô tô và in kết quả ra màn hình.</p>\n",
    "Sử dụng lệnh ép kiểu input() để nhập các giá trị tương ứng cho v0, a và t.</p>\n",
    "Dùng công thức v = v0 + a.t để tính vận tốc cuối cùng"
   ]
  },
  {
   "cell_type": "code",
   "execution_count": 19,
   "id": "aa8f4dde",
   "metadata": {},
   "outputs": [
    {
     "name": "stdout",
     "output_type": "stream",
     "text": [
      "v0=10\n",
      "a=-2\n",
      "t=10\n",
      "vận tốc sau -10\n"
     ]
    }
   ],
   "source": [
    "v0=int(input(\"v0=\"))\n",
    "a=int(input(\"a=\"))\n",
    "t=int(input(\"t=\"))\n",
    "Van_toc = v0 +a*t\n",
    "print(\"vận tốc sau\",Van_toc)"
   ]
  },
  {
   "cell_type": "markdown",
   "id": "8b02bcd4",
   "metadata": {},
   "source": [
    "## Bài tập 2"
   ]
  },
  {
   "cell_type": "markdown",
   "id": "ab6b37b6",
   "metadata": {},
   "source": [
    "Viết chương trình để nhập điểm kiểm tra, điểm thi giữa kỳ, điểm thi cuối kỳ, sau đó tính tổng điểm và in kết quả ra màn hình"
   ]
  },
  {
   "cell_type": "code",
   "execution_count": 20,
   "id": "095535a9",
   "metadata": {},
   "outputs": [
    {
     "name": "stdout",
     "output_type": "stream",
     "text": [
      "điểm kiểm tra=10\n",
      "điểm thi giữa kì=9\n",
      "điểm thi cuối kì =8\n",
      "tổng điểm 27\n"
     ]
    }
   ],
   "source": [
    "diemkiemtra=int(input(\"điểm kiểm tra=\"))\n",
    "diemthigiuaki=int(input(\"điểm thi giữa kì=\"))\n",
    "diemthicuoiki =int(input(\"điểm thi cuối kì =\"))\n",
    "tongdiem = diemkiemtra+diemthigiuaki+diemthicuoiki\n",
    "print(\"tổng điểm\",tongdiem)"
   ]
  },
  {
   "cell_type": "markdown",
   "id": "076b8074",
   "metadata": {},
   "source": [
    "## Bài Tập 3"
   ]
  },
  {
   "cell_type": "markdown",
   "id": "c0009d80",
   "metadata": {},
   "source": [
    "Viết chương chình nhập vào vận tốc và thời gian của xe chạy của xe taxi </p>\n",
    "yêu cầu 1 :tính quãng đường xe chạy được bao nhiêu km.</p>\n",
    "yêu cầu 2 : đổi km về m </p>\n",
    "yêu cầu 3 : cho biết cứ mỗi 1 km thì được tính với giá cước là 23000 đồng ,hãy tính tổng số tiền khách phải trả."
   ]
  },
  {
   "cell_type": "code",
   "execution_count": 26,
   "id": "af3638f2",
   "metadata": {},
   "outputs": [
    {
     "name": "stdout",
     "output_type": "stream",
     "text": [
      "Vận tốc=50\n",
      "thời gian=1\n",
      "Quãng đường 50\n",
      "Đổi 50000\n",
      "Tổng số tiền khách trả 1150000\n"
     ]
    }
   ],
   "source": [
    "vantoc = int(input(\"Vận tốc=\"))\n",
    "thoigian=int(input(\"thời gian=\"))\n",
    "quangduong=(vantoc*thoigian)\n",
    "print(\"Quãng đường\",quangduong)\n",
    "km_m=quangduong*1000\n",
    "print(\"Đổi\",km_m)\n",
    "tien=quangduong*23000\n",
    "print(\"Tổng số tiền khách trả\",tien)"
   ]
  },
  {
   "cell_type": "markdown",
   "id": "14e3f09c",
   "metadata": {},
   "source": [
    "## Bài Tập 4"
   ]
  },
  {
   "cell_type": "markdown",
   "id": "07a5d8a0",
   "metadata": {},
   "source": [
    "Nhập vào một string và một số x ,hãy xóa x ký tự đầu tiên của string </p>\n",
    "ví dụ : string = \"hello python\" ,x = 3 </p>\n",
    "    output: \"lo python\""
   ]
  },
  {
   "cell_type": "code",
   "execution_count": 3,
   "id": "b1465df0",
   "metadata": {},
   "outputs": [
    {
     "name": "stdout",
     "output_type": "stream",
     "text": [
      "nhập x là6\n",
      "python\n"
     ]
    }
   ],
   "source": [
    "string = \"hello python\"\n",
    "x = int(input(\"nhập x là\"))\n",
    "print(string[x:])\n"
   ]
  },
  {
   "cell_type": "markdown",
   "id": "1cd79c05",
   "metadata": {},
   "source": [
    "## Bài Tập 5"
   ]
  },
  {
   "cell_type": "markdown",
   "id": "d0956054",
   "metadata": {},
   "source": [
    "Nhập vào một string ,hãy kiểm tra đây có phải là một string đối xứng không</p>\n",
    "Lưu ý : chuối đối xứng là chuối có thứ tự giống nhau khi đọc từ trái sáng phải hoặc ngược lại</p>\n",
    "vd : abba , abcddcba"
   ]
  },
  {
   "cell_type": "code",
   "execution_count": 2,
   "id": "43d5c2eb",
   "metadata": {},
   "outputs": [
    {
     "name": "stdout",
     "output_type": "stream",
     "text": [
      "nhập string:abab\n",
      "False\n"
     ]
    }
   ],
   "source": [
    "string = input(\"nhập string:\")\n",
    "r_string = string[::-1]\n",
    "print(string==r_string)"
   ]
  },
  {
   "cell_type": "markdown",
   "id": "2d88272f",
   "metadata": {},
   "source": [
    "## Bài Tập 6 "
   ]
  },
  {
   "cell_type": "markdown",
   "id": "ba2c57ba",
   "metadata": {},
   "source": [
    "Nhập vào một chuỗi string gồm 5 chữ và thực hiện các thao tác :</p>\n",
    "    in ra đổi 2 chữ đầu tiên</p>\n",
    "    in ra chuỗi đó đều in thường</p>\n",
    "    in ra chuỗi đó đều in hoa</p>\n",
    "    in cắt chuỗi đó thành nhiều chuỗi nhỏ</p>\n",
    "    in cắt đó thành những từ có nghĩa</p>\n",
    "    "
   ]
  },
  {
   "cell_type": "code",
   "execution_count": 4,
   "id": "a86cc73b",
   "metadata": {},
   "outputs": [
    {
     "name": "stdout",
     "output_type": "stream",
     "text": [
      "Lớp học\n",
      "lớp học python căn bản buổi 8\n",
      "LỚP HỌC PYTHON CĂN BẢN BUỔI 8\n",
      "['Lớp', 'học', 'python', 'căn', 'bản', 'buổi', '8']\n"
     ]
    }
   ],
   "source": [
    "content = \"Lớp học python căn bản buổi 8\"\n",
    "print(content[0:7])\n",
    "print(content.lower())\n",
    "print(content.upper())\n",
    "print(content.split())"
   ]
  },
  {
   "cell_type": "code",
   "execution_count": 5,
   "id": "fe610315",
   "metadata": {},
   "outputs": [
    {
     "name": "stdout",
     "output_type": "stream",
     "text": [
      "Bông ho\n"
     ]
    }
   ],
   "source": []
  },
  {
   "cell_type": "markdown",
   "id": "a562eb4b",
   "metadata": {},
   "source": [
    "## Bài Tập 7"
   ]
  },
  {
   "cell_type": "markdown",
   "id": "fe077b04",
   "metadata": {},
   "source": [
    "Nhập vào 2 chuỗi , chuỗi 1 là Họ và tên đệm, chuỗi 2 là tên của mình </p>\n",
    "Yêu cầu : nối 2 chuỗi lại hoàn chỉnh </p>\n",
    "    vd : Họ tên đêm : Nguyễn Văn </p>\n",
    "        Tên : A</p>\n",
    "     output: Nguyễn Văn A"
   ]
  },
  {
   "cell_type": "code",
   "execution_count": 1,
   "id": "c7787a7c",
   "metadata": {},
   "outputs": [
    {
     "name": "stdout",
     "output_type": "stream",
     "text": [
      "Hoàng Thị Hằng\n"
     ]
    }
   ],
   "source": [
    "hotendem =\"Hoàng Thị\"\n",
    "ten=\"Hằng\"\n",
    "print(hotendem,ten)"
   ]
  },
  {
   "cell_type": "code",
   "execution_count": null,
   "id": "eaf59f35",
   "metadata": {},
   "outputs": [],
   "source": []
  }
 ],
 "metadata": {
  "kernelspec": {
   "display_name": "Python 3 (ipykernel)",
   "language": "python",
   "name": "python3"
  },
  "language_info": {
   "codemirror_mode": {
    "name": "ipython",
    "version": 3
   },
   "file_extension": ".py",
   "mimetype": "text/x-python",
   "name": "python",
   "nbconvert_exporter": "python",
   "pygments_lexer": "ipython3",
   "version": "3.9.13"
  }
 },
 "nbformat": 4,
 "nbformat_minor": 5
}
